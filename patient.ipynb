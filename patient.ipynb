{
 "cells": [
  {
   "cell_type": "code",
   "execution_count": 1,
   "id": "355ce9c2",
   "metadata": {},
   "outputs": [],
   "source": [
    "# --- EDIT THESE TWO ONLY ---\n",
    "DATA_ROOT = r\"C:\\Users\\sohel\\Dropbox\\Ariana\\Interview_Data\\Python_Model\\patients\\root\"  \n",
    "# 🔼 now pointing to your Dropbox \"root\" folder that contains patients/, conditions/, etc.\n",
    "\n",
    "OUT_ROOT  = r\"C:\\Users\\sohel\\Dropbox\\Ariana\\Interview_Data\\Python_Model\\patients\"\n",
    "\n",
    "# Bronze/Silver target dirs\n",
    "BRONZE_DIR = fr\"{OUT_ROOT}\\Output1\"   # raw parquet\n",
    "SILVER_DIR = fr\"{OUT_ROOT}\\Output2\"   # cleaned parquet\n",
    "\n",
    "# Entities we’ll ingest\n",
    "ENTITIES = [\n",
    "    \"patients\", \"conditions\", \"encounters\", \"medications\",\n",
    "    \"observations\", \"allergies\", \"careplans\", \"immunizations\", \"procedures\"\n",
    "]\n"
   ]
  },
  {
   "cell_type": "code",
   "execution_count": 2,
   "id": "73d31213",
   "metadata": {},
   "outputs": [
    {
     "name": "stdout",
     "output_type": "stream",
     "text": [
      "DATA_ROOT exists: True\n",
      "DATA_ROOT resolves to: C:\\Users\\sohel\\Dropbox\\Ariana\\Interview_Data\\Python_Model\\patients\\root\n",
      "Children: ['allergies', 'careplans', 'conditions', 'encounters', 'immunizations', 'medications', 'observations', 'patients', 'procedures']\n"
     ]
    }
   ],
   "source": [
    "from pathlib import Path\n",
    "\n",
    "DATA_ROOT = r\"C:\\Users\\sohel\\Dropbox\\Ariana\\Interview_Data\\Python_Model\\patients\\root\"  # <- adjust if needed\n",
    "\n",
    "root = Path(DATA_ROOT)\n",
    "print(\"DATA_ROOT exists:\", root.exists())\n",
    "print(\"DATA_ROOT resolves to:\", root.resolve())\n",
    "\n",
    "# list immediate children so we can see folders present\n",
    "print(\"Children:\", [p.name for p in root.iterdir()] if root.exists() else \"N/A\")\n"
   ]
  },
  {
   "cell_type": "code",
   "execution_count": 3,
   "id": "612cf1d7",
   "metadata": {},
   "outputs": [],
   "source": [
    "DATA_ROOT = r\"C:\\Users\\sohel\\Dropbox\\Ariana\\Interview_Data\\Python_Model\\patients\\root\"\n",
    "OUT_ROOT  = r\"C:\\Users\\sohel\\Dropbox\\Ariana\\Interview_Data\\Python_Model\\patients\"\n"
   ]
  },
  {
   "cell_type": "code",
   "execution_count": 4,
   "id": "e0aca566",
   "metadata": {},
   "outputs": [
    {
     "name": "stdout",
     "output_type": "stream",
     "text": [
      "DATA_ROOT exists: True | resolves to: C:\\Users\\sohel\\Dropbox\\Ariana\\Interview_Data\\Python_Model\\patients\\root\n",
      "Children (first 20): ['allergies', 'careplans', 'conditions', 'encounters', 'immunizations', 'medications', 'observations', 'patients', 'procedures']\n"
     ]
    }
   ],
   "source": [
    "\n",
    "from pathlib import Path\n",
    "root = Path(DATA_ROOT)\n",
    "print(\"DATA_ROOT exists:\", root.exists(), \"| resolves to:\", root.resolve())\n",
    "print(\"Children (first 20):\", [p.name for p in list(root.iterdir())[:20]])\n"
   ]
  },
  {
   "cell_type": "code",
   "execution_count": 11,
   "id": "318a93fc",
   "metadata": {},
   "outputs": [
    {
     "name": "stdout",
     "output_type": "stream",
     "text": [
      "patients → C:\\Users\\sohel\\Dropbox\\Ariana\\Interview_Data\\Python_Model\\patients\\root\\patients\n",
      "conditions → C:\\Users\\sohel\\Dropbox\\Ariana\\Interview_Data\\Python_Model\\patients\\root\\conditions\n",
      "encounters → C:\\Users\\sohel\\Dropbox\\Ariana\\Interview_Data\\Python_Model\\patients\\root\\encounters\n",
      "medications → C:\\Users\\sohel\\Dropbox\\Ariana\\Interview_Data\\Python_Model\\patients\\root\\medications\n",
      "observations → C:\\Users\\sohel\\Dropbox\\Ariana\\Interview_Data\\Python_Model\\patients\\root\\observations\n",
      "allergies → C:\\Users\\sohel\\Dropbox\\Ariana\\Interview_Data\\Python_Model\\patients\\root\\allergies\n",
      "careplans → C:\\Users\\sohel\\Dropbox\\Ariana\\Interview_Data\\Python_Model\\patients\\root\\careplans\n",
      "immunizations → C:\\Users\\sohel\\Dropbox\\Ariana\\Interview_Data\\Python_Model\\patients\\root\\immunizations\n",
      "procedures → C:\\Users\\sohel\\Dropbox\\Ariana\\Interview_Data\\Python_Model\\patients\\root\\procedures\n"
     ]
    }
   ],
   "source": [
    "from pathlib import Path\n",
    "\n",
    "ENTITIES = [\"patients\",\"conditions\",\"encounters\",\"medications\",\n",
    "            \"observations\",\"allergies\",\"careplans\",\"immunizations\",\"procedures\"]\n",
    "\n",
    "def find_entity_dir(entity: str) -> str | None:\n",
    "    root = Path(DATA_ROOT)\n",
    "    # look for a folder literally named the entity, at any depth\n",
    "    for p in root.rglob(entity):\n",
    "        if p.is_dir() and list(p.glob(\"*.csv\")):   # ensure it actually has CSVs\n",
    "            return str(p.resolve())\n",
    "    return None\n",
    "\n",
    "for e in ENTITIES:\n",
    "    print(e, \"→\", find_entity_dir(e))\n"
   ]
  },
  {
   "cell_type": "code",
   "execution_count": 12,
   "id": "e96d349f",
   "metadata": {},
   "outputs": [
    {
     "name": "stdout",
     "output_type": "stream",
     "text": [
      "→ Reading patients from C:\\Users\\sohel\\Dropbox\\Ariana\\Interview_Data\\Python_Model\\patients\\root\\patients (recursive)\n",
      "→ Reading conditions from C:\\Users\\sohel\\Dropbox\\Ariana\\Interview_Data\\Python_Model\\patients\\root\\conditions (recursive)\n",
      "→ Reading encounters from C:\\Users\\sohel\\Dropbox\\Ariana\\Interview_Data\\Python_Model\\patients\\root\\encounters (recursive)\n",
      "→ Reading medications from C:\\Users\\sohel\\Dropbox\\Ariana\\Interview_Data\\Python_Model\\patients\\root\\medications (recursive)\n",
      "→ Reading observations from C:\\Users\\sohel\\Dropbox\\Ariana\\Interview_Data\\Python_Model\\patients\\root\\observations (recursive)\n",
      "→ Reading allergies from C:\\Users\\sohel\\Dropbox\\Ariana\\Interview_Data\\Python_Model\\patients\\root\\allergies (recursive)\n",
      "→ Reading careplans from C:\\Users\\sohel\\Dropbox\\Ariana\\Interview_Data\\Python_Model\\patients\\root\\careplans (recursive)\n",
      "→ Reading immunizations from C:\\Users\\sohel\\Dropbox\\Ariana\\Interview_Data\\Python_Model\\patients\\root\\immunizations (recursive)\n",
      "→ Reading procedures from C:\\Users\\sohel\\Dropbox\\Ariana\\Interview_Data\\Python_Model\\patients\\root\\procedures (recursive)\n"
     ]
    },
    {
     "data": {
      "text/plain": [
       "[('patients',\n",
       "  133443,\n",
       "  17,\n",
       "  'C:\\\\Users\\\\sohel\\\\Dropbox\\\\Ariana\\\\Interview_Data\\\\Python_Model\\\\patients\\\\Output1\\\\patients.parquet'),\n",
       " ('conditions',\n",
       "  485284,\n",
       "  6,\n",
       "  'C:\\\\Users\\\\sohel\\\\Dropbox\\\\Ariana\\\\Interview_Data\\\\Python_Model\\\\patients\\\\Output1\\\\conditions.parquet'),\n",
       " ('encounters',\n",
       "  1257518,\n",
       "  7,\n",
       "  'C:\\\\Users\\\\sohel\\\\Dropbox\\\\Ariana\\\\Interview_Data\\\\Python_Model\\\\patients\\\\Output1\\\\encounters.parquet'),\n",
       " ('medications',\n",
       "  398481,\n",
       "  8,\n",
       "  'C:\\\\Users\\\\sohel\\\\Dropbox\\\\Ariana\\\\Interview_Data\\\\Python_Model\\\\patients\\\\Output1\\\\medications.parquet'),\n",
       " ('observations',\n",
       "  5383758,\n",
       "  7,\n",
       "  'C:\\\\Users\\\\sohel\\\\Dropbox\\\\Ariana\\\\Interview_Data\\\\Python_Model\\\\patients\\\\Output1\\\\observations.parquet'),\n",
       " ('allergies',\n",
       "  52211,\n",
       "  6,\n",
       "  'C:\\\\Users\\\\sohel\\\\Dropbox\\\\Ariana\\\\Interview_Data\\\\Python_Model\\\\patients\\\\Output1\\\\allergies.parquet'),\n",
       " ('careplans',\n",
       "  797496,\n",
       "  9,\n",
       "  'C:\\\\Users\\\\sohel\\\\Dropbox\\\\Ariana\\\\Interview_Data\\\\Python_Model\\\\patients\\\\Output1\\\\careplans.parquet'),\n",
       " ('immunizations',\n",
       "  866878,\n",
       "  5,\n",
       "  'C:\\\\Users\\\\sohel\\\\Dropbox\\\\Ariana\\\\Interview_Data\\\\Python_Model\\\\patients\\\\Output1\\\\immunizations.parquet'),\n",
       " ('procedures',\n",
       "  622851,\n",
       "  7,\n",
       "  'C:\\\\Users\\\\sohel\\\\Dropbox\\\\Ariana\\\\Interview_Data\\\\Python_Model\\\\patients\\\\Output1\\\\procedures.parquet')]"
      ]
     },
     "execution_count": 12,
     "metadata": {},
     "output_type": "execute_result"
    }
   ],
   "source": [
    "from pyspark.sql import SparkSession\n",
    "from pyspark.sql import functions as F\n",
    "\n",
    "spark = (SparkSession.builder\n",
    "         .appName(\"synthea-etl\")\n",
    "         .config(\"spark.sql.parquet.compression.codec\",\"snappy\")\n",
    "         .getOrCreate())\n",
    "\n",
    "def bronze_parquet(entity: str) -> str:\n",
    "    return fr\"{OUT_ROOT}\\Output1\\{entity}.parquet\"\n",
    "\n",
    "ingest_report = []\n",
    "for e in ENTITIES:\n",
    "    d = find_entity_dir(e)\n",
    "    if not d:\n",
    "        print(f\"⚠️  Skipping {e}: could not find CSV folder under {DATA_ROOT}\")\n",
    "        continue\n",
    "\n",
    "    print(f\"→ Reading {e} from {d} (recursive)\")\n",
    "    df = (spark.read.option(\"header\", True)\n",
    "                     .option(\"recursiveFileLookup\", \"true\")\n",
    "                     .csv(d))   # points to the folder; Spark finds all CSVs under it\n",
    "\n",
    "    outp = bronze_parquet(e)\n",
    "    (df.write.mode(\"overwrite\").parquet(outp))\n",
    "    ingest_report.append((e, df.count(), len(df.columns), outp))\n",
    "\n",
    "ingest_report\n"
   ]
  },
  {
   "cell_type": "code",
   "execution_count": 13,
   "id": "0efc3e73",
   "metadata": {},
   "outputs": [],
   "source": [
    "from pyspark.sql import functions as F, types as T\n",
    "\n",
    "DATE_RX = r\"^\\d{4}-\\d{2}-\\d{2}$\"   # 2020-12-31\n",
    "\n",
    "patients = spark.read.parquet(r\"C:\\Users\\sohel\\Dropbox\\Ariana\\Interview_Data\\Python_Model\\patients\\Output1\\patients.parquet\")\n",
    "conditions = spark.read.parquet(r\"C:\\Users\\sohel\\Dropbox\\Ariana\\Interview_Data\\Python_Model\\patients\\Output1\\conditions.parquet\")\n",
    "\n",
    "patients_s = (\n",
    "    patients\n",
    "      .withColumn(\"patient_id\", F.upper(\"Id\"))\n",
    "      .withColumn(\"birthdate\",\n",
    "          F.when(F.col(\"BIRTHDATE\").rlike(DATE_RX), F.to_date(\"BIRTHDATE\")).otherwise(F.lit(None).cast(T.DateType()))\n",
    "      )\n",
    "      .withColumn(\"deathdate\",\n",
    "          F.when(F.col(\"DEATHDATE\").rlike(DATE_RX), F.to_date(\"DEATHDATE\")).otherwise(F.lit(None).cast(T.DateType()))\n",
    "      )\n",
    "      .withColumn(\"gender\", F.upper(F.trim(\"GENDER\")))\n",
    "      .withColumn(\"age_years\",\n",
    "          F.floor(F.months_between(F.current_date(), F.col(\"birthdate\"))/12)\n",
    "      )\n",
    "      .select(\"patient_id\",\"gender\",\"birthdate\",\"deathdate\",\"age_years\")\n",
    ")\n",
    "\n",
    "conditions_s = (\n",
    "    conditions\n",
    "      .withColumn(\"patient_id\", F.upper(\"PATIENT\"))\n",
    "      .withColumn(\"start_date\",\n",
    "          F.when(F.col(\"START\").rlike(DATE_RX), F.to_date(\"START\")).otherwise(F.lit(None).cast(T.DateType()))\n",
    "      )\n",
    "      .withColumn(\"stop_date\",\n",
    "          F.when(F.col(\"STOP\").rlike(DATE_RX), F.to_date(\"STOP\")).otherwise(F.lit(None).cast(T.DateType()))\n",
    "      )\n",
    "      .withColumn(\"is_active\", F.col(\"stop_date\").isNull())\n",
    "      .select(\"patient_id\",\"DESCRIPTION\",\"CODE\",\"start_date\",\"stop_date\",\"is_active\")\n",
    ")\n",
    "\n",
    "patients_s.write.mode(\"overwrite\").parquet(r\"C:\\Users\\sohel\\Dropbox\\Ariana\\Interview_Data\\Python_Model\\patients\\Output2\\patients_clean.parquet\")\n",
    "conditions_s.write.mode(\"overwrite\").parquet(r\"C:\\Users\\sohel\\Dropbox\\Ariana\\Interview_Data\\Python_Model\\patients\\Output2\\conditions_clean.parquet\")\n"
   ]
  },
  {
   "cell_type": "code",
   "execution_count": 14,
   "id": "768c4553",
   "metadata": {},
   "outputs": [],
   "source": [
    "spark.conf.set(\"spark.sql.ansi.enabled\", \"false\")\n"
   ]
  },
  {
   "cell_type": "code",
   "execution_count": 15,
   "id": "ebf500ee",
   "metadata": {},
   "outputs": [
    {
     "name": "stdout",
     "output_type": "stream",
     "text": [
      "+----------------------------------------------+\n",
      "|BIRTHDATE                                     |\n",
      "+----------------------------------------------+\n",
      "|S99957786                                     |\n",
      "|0e769953-331e-40c0-ab30-e4eeadf347f9          |\n",
      "|M                                             |\n",
      "|S99989445                                     |\n",
      "|bd303fee-fcb0-4e62-a89e-5a29199107c0          |\n",
      "|1952-04-01d90ce1c7-574c-4df6-aa06-fb12fc590b06|\n",
      "|white                                         |\n",
      "|b8e021b8-ead0-4953-8d63-5fad90acf985          |\n",
      "|white                                         |\n",
      "|2f8ab7e4-479a-4f9a-aded-9fa32c69b723          |\n",
      "|253e0804-e557-4fba-8314-1fa0f321194c          |\n",
      "|Mrs.                                          |\n",
      "|1951-02-21eea2956b-60bf-45f5-84a0-ad8eef8eb84a|\n",
      "|fb4f3feb-e4c5-4f9a-b459-7e12ff0bb524          |\n",
      "|8177 Travis Rest Wareham MA 02571 US          |\n",
      "|1937-05-0552caee87-dc30-441f-98bf-7bc59c049419|\n",
      "|S99953828                                     |\n",
      "|1989-09-20ab7668f5-e1c7-43cd-8d97-18aec145f1bb|\n",
      "|999-30-7099                                   |\n",
      "|a86fba66-0500-4566-b62e-5477345dd69a          |\n",
      "+----------------------------------------------+\n",
      "only showing top 20 rows\n",
      "+-----+\n",
      "|START|\n",
      "+-----+\n",
      "+-----+\n",
      "\n"
     ]
    }
   ],
   "source": [
    "patients.select(\"BIRTHDATE\").filter(~F.col(\"BIRTHDATE\").rlike(DATE_RX)).show(20, truncate=False)\n",
    "conditions.select(\"START\").filter(~F.col(\"START\").rlike(DATE_RX)).show(20, truncate=False)\n"
   ]
  },
  {
   "cell_type": "code",
   "execution_count": 16,
   "id": "8a345636",
   "metadata": {},
   "outputs": [
    {
     "name": "stdout",
     "output_type": "stream",
     "text": [
      "+----------------------------------------------+\n",
      "|BIRTHDATE                                     |\n",
      "+----------------------------------------------+\n",
      "|b8e021b8-ead0-4953-8d63-5fad90acf985          |\n",
      "|0e769953-331e-40c0-ab30-e4eeadf347f9          |\n",
      "|a86fba66-0500-4566-b62e-5477345dd69a          |\n",
      "|1952-04-01d90ce1c7-574c-4df6-aa06-fb12fc590b06|\n",
      "|1937-05-0552caee87-dc30-441f-98bf-7bc59c049419|\n",
      "|Mrs.                                          |\n",
      "|S99953828                                     |\n",
      "|1925-10-229f5284d6-27bc-4d88-baf5-e631c756cfcc|\n",
      "|M                                             |\n",
      "|white                                         |\n",
      "|999-55-4216                                   |\n",
      "|bd303fee-fcb0-4e62-a89e-5a29199107c0          |\n",
      "|fb4f3feb-e4c5-4f9a-b459-7e12ff0bb524          |\n",
      "|999-31-4368                                   |\n",
      "|S99957786                                     |\n",
      "|1989-09-20ab7668f5-e1c7-43cd-8d97-18aec145f1bb|\n",
      "|1951-02-21eea2956b-60bf-45f5-84a0-ad8eef8eb84a|\n",
      "|irish                                         |\n",
      "|8177 Travis Rest Wareham MA 02571 US          |\n",
      "|2f8ab7e4-479a-4f9a-aded-9fa32c69b723          |\n",
      "+----------------------------------------------+\n",
      "only showing top 20 rows\n",
      "+-----+\n",
      "|START|\n",
      "+-----+\n",
      "+-----+\n",
      "\n"
     ]
    }
   ],
   "source": [
    "# Inspect malformed birthdates\n",
    "patients.select(\"BIRTHDATE\") \\\n",
    "        .filter(~F.col(\"BIRTHDATE\").rlike(DATE_RX)) \\\n",
    "        .distinct() \\\n",
    "        .show(20, truncate=False)\n",
    "\n",
    "# Inspect malformed condition start dates\n",
    "conditions.select(\"START\") \\\n",
    "          .filter(~F.col(\"START\").rlike(DATE_RX)) \\\n",
    "          .distinct() \\\n",
    "          .show(20, truncate=False)\n"
   ]
  },
  {
   "cell_type": "code",
   "execution_count": 17,
   "id": "7548df13",
   "metadata": {},
   "outputs": [],
   "source": [
    "patients_clean = patients.filter(F.col(\"BIRTHDATE\").rlike(DATE_RX))\n"
   ]
  },
  {
   "cell_type": "code",
   "execution_count": 18,
   "id": "ad8f306b",
   "metadata": {},
   "outputs": [],
   "source": [
    "from pyspark.sql import functions as F, types as T\n",
    "\n",
    "IN_PAT  = r\"C:\\Users\\sohel\\Dropbox\\Ariana\\Interview_Data\\Python_Model\\patients\\Output1\\patients.parquet\"\n",
    "IN_COND = r\"C:\\Users\\sohel\\Dropbox\\Ariana\\Interview_Data\\Python_Model\\patients\\Output1\\conditions.parquet\"\n",
    "\n",
    "OUT_SILVER = r\"C:\\Users\\sohel\\Dropbox\\Ariana\\Interview_Data\\Python_Model\\patients\\Output2\"\n"
   ]
  },
  {
   "cell_type": "code",
   "execution_count": 19,
   "id": "d9fa4d8e",
   "metadata": {},
   "outputs": [],
   "source": [
    "patients   = spark.read.parquet(IN_PAT)\n",
    "conditions = spark.read.parquet(IN_COND)\n"
   ]
  },
  {
   "cell_type": "code",
   "execution_count": 20,
   "id": "6ef4af46",
   "metadata": {},
   "outputs": [],
   "source": [
    "DATE_RE = r'(\\d{4}-\\d{2}-\\d{2})'   # capture group 1 = the date we want\n"
   ]
  },
  {
   "cell_type": "code",
   "execution_count": 21,
   "id": "36d9eab8",
   "metadata": {},
   "outputs": [
    {
     "name": "stdout",
     "output_type": "stream",
     "text": [
      "patients BIRTHDATE → valid: 133184 | invalid: 205\n",
      "conditions START → valid: 485284 | invalid: 0\n"
     ]
    }
   ],
   "source": [
    "# patients\n",
    "valid_birth = patients.filter(F.col(\"BIRTHDATE\").rlike(r\"^\\d{4}-\\d{2}-\\d{2}$\")).count()\n",
    "invalid_birth = patients.filter(~F.col(\"BIRTHDATE\").rlike(r\"^\\d{4}-\\d{2}-\\d{2}$\")).count()\n",
    "print(\"patients BIRTHDATE → valid:\", valid_birth, \"| invalid:\", invalid_birth)\n",
    "\n",
    "# conditions\n",
    "valid_start = conditions.filter(F.col(\"START\").rlike(r\"^\\d{4}-\\d{2}-\\d{2}$\")).count()\n",
    "invalid_start = conditions.filter(~F.col(\"START\").rlike(r\"^\\d{4}-\\d{2}-\\d{2}$\")).count()\n",
    "print(\"conditions START → valid:\", valid_start, \"| invalid:\", invalid_start)\n"
   ]
  },
  {
   "cell_type": "code",
   "execution_count": 22,
   "id": "4c785d82",
   "metadata": {},
   "outputs": [],
   "source": [
    "patients_clean_drop = patients.filter(F.col(\"BIRTHDATE\").rlike(r\"^\\d{4}-\\d{2}-\\d{2}$\"))\n",
    "conditions_clean_drop = conditions.filter(F.col(\"START\").rlike(r\"^\\d{4}-\\d{2}-\\d{2}$\") | F.col(\"START\").isNull())\n"
   ]
  },
  {
   "cell_type": "code",
   "execution_count": 23,
   "id": "0e112875",
   "metadata": {},
   "outputs": [],
   "source": [
    "# Patients\n",
    "patients_s = (\n",
    "    patients\n",
    "      .withColumn(\"patient_id\", F.upper(\"Id\"))\n",
    "      .withColumn(\"birthdate_str\", F.regexp_extract(F.col(\"BIRTHDATE\"), DATE_RE, 1))\n",
    "      .withColumn(\"deathdate_str\", F.regexp_extract(F.col(\"DEATHDATE\"), DATE_RE, 1))\n",
    "      .withColumn(\"birthdate\", F.to_date(\"birthdate_str\"))\n",
    "      .withColumn(\"deathdate\", F.to_date(\"deathdate_str\"))\n",
    "      .withColumn(\"gender\", F.upper(F.trim(\"GENDER\")))\n",
    "      .withColumn(\"age_years\", F.floor(F.months_between(F.current_date(), F.col(\"birthdate\"))/12))\n",
    "      .select(\"patient_id\",\"gender\",\"birthdate\",\"deathdate\",\"age_years\")\n",
    ")\n",
    "\n",
    "# Conditions\n",
    "conditions_s = (\n",
    "    conditions\n",
    "      .withColumn(\"patient_id\", F.upper(\"PATIENT\"))\n",
    "      .withColumn(\"start_str\", F.regexp_extract(F.col(\"START\"), DATE_RE, 1))\n",
    "      .withColumn(\"stop_str\",  F.regexp_extract(F.col(\"STOP\"),  DATE_RE, 1))\n",
    "      .withColumn(\"start_date\", F.to_date(\"start_str\"))\n",
    "      .withColumn(\"stop_date\",  F.to_date(\"stop_str\"))\n",
    "      .withColumn(\"is_active\",  F.col(\"stop_date\").isNull())\n",
    "      .select(\"patient_id\",\"DESCRIPTION\",\"CODE\",\"start_date\",\"stop_date\",\"is_active\")\n",
    ")\n"
   ]
  },
  {
   "cell_type": "code",
   "execution_count": 25,
   "id": "9f3eb5d7",
   "metadata": {},
   "outputs": [],
   "source": [
    "patients_s.write.mode(\"overwrite\").parquet(fr\"{OUT_SILVER}\\patients_clean.parquet\")\n",
    "conditions_s.write.mode(\"overwrite\").parquet(fr\"{OUT_SILVER}\\conditions_clean.parquet\")\n"
   ]
  },
  {
   "cell_type": "code",
   "execution_count": 26,
   "id": "0f190c2d",
   "metadata": {},
   "outputs": [
    {
     "name": "stdout",
     "output_type": "stream",
     "text": [
      "+---------+\n",
      "|birthdate|\n",
      "+---------+\n",
      "|     NULL|\n",
      "|     NULL|\n",
      "|     NULL|\n",
      "|     NULL|\n",
      "|     NULL|\n",
      "+---------+\n",
      "only showing top 5 rows\n",
      "+----------+\n",
      "|start_date|\n",
      "+----------+\n",
      "+----------+\n",
      "\n",
      "+------------------------------------+------+----------+----------+---------+\n",
      "|patient_id                          |gender|birthdate |deathdate |age_years|\n",
      "+------------------------------------+------+----------+----------+---------+\n",
      "|CE82E429-A89E-4DD0-B288-A572E3B8C17F|F     |1996-04-09|NULL      |29       |\n",
      "|DAEF6412-4C0B-49FF-8752-D0BBBD51963B|F     |2001-04-22|NULL      |24       |\n",
      "|61ADAE8E-6CF7-4180-B369-9E6340E84609|F     |2005-07-02|2006-01-21|20       |\n",
      "|94EB9D8D-112E-4D73-8AA3-8C4F9D2A5BE5|F     |1975-12-10|NULL      |49       |\n",
      "|F273EC3F-9ADB-4834-95D9-4D0B788B9E1E|F     |1995-08-28|NULL      |29       |\n",
      "+------------------------------------+------+----------+----------+---------+\n",
      "only showing top 5 rows\n",
      "+------------------------------------+------------------------------------------------+---------+----------+----------+---------+\n",
      "|patient_id                          |DESCRIPTION                                     |CODE     |start_date|stop_date |is_active|\n",
      "+------------------------------------+------------------------------------------------+---------+----------+----------+---------+\n",
      "|B9B9618A-627E-4245-8C20-3B25F5636724|History of cardiac arrest (situation)           |429007001|1991-08-12|NULL      |true     |\n",
      "|B9B9618A-627E-4245-8C20-3B25F5636724|Injury of tendon of the rotator cuff of shoulder|307731004|2011-06-01|2011-07-25|false    |\n",
      "|B9B9618A-627E-4245-8C20-3B25F5636724|Acute viral pharyngitis (disorder)              |195662009|2011-09-20|2011-10-08|false    |\n",
      "|B9B9618A-627E-4245-8C20-3B25F5636724|Concussion with no loss of consciousness        |62106007 |2013-08-24|2013-11-03|false    |\n",
      "|B9B9618A-627E-4245-8C20-3B25F5636724|Stroke                                          |230690007|2013-09-30|NULL      |true     |\n",
      "+------------------------------------+------------------------------------------------+---------+----------+----------+---------+\n",
      "only showing top 5 rows\n"
     ]
    }
   ],
   "source": [
    "p = spark.read.parquet(fr\"{OUT_SILVER}\\patients_clean.parquet\")\n",
    "c = spark.read.parquet(fr\"{OUT_SILVER}\\conditions_clean.parquet\")\n",
    "\n",
    "p.select(\"birthdate\").filter(F.col(\"birthdate\").isNull()).show(5)   # ideally few or none\n",
    "c.select(\"start_date\").filter(F.col(\"start_date\").isNull()).show(5)\n",
    "\n",
    "p.show(5, truncate=False)\n",
    "c.show(5, truncate=False)\n"
   ]
  },
  {
   "cell_type": "code",
   "execution_count": 27,
   "id": "8b637050",
   "metadata": {},
   "outputs": [
    {
     "data": {
      "text/plain": [
       "('C:\\\\Users\\\\sohel\\\\Dropbox\\\\Ariana\\\\Interview_Data\\\\Python_Model\\\\patients\\\\Output2\\\\patients_clean.parquet',\n",
       " 'C:\\\\Users\\\\sohel\\\\Dropbox\\\\Ariana\\\\Interview_Data\\\\Python_Model\\\\patients\\\\Output2\\\\conditions_clean.parquet')"
      ]
     },
     "execution_count": 27,
     "metadata": {},
     "output_type": "execute_result"
    }
   ],
   "source": [
    "from pathlib import Path\n",
    "\n",
    "DATA_ROOT = r\"C:\\Users\\sohel\\Dropbox\\Ariana\\Interview_Data\\Python_Model\\patients\\root\"\n",
    "OUT_ROOT  = r\"C:\\Users\\sohel\\Dropbox\\Ariana\\Interview_Data\\Python_Model\\patients\"\n",
    "\n",
    "OUT1 = str(Path(OUT_ROOT) / \"Output1\")\n",
    "OUT2 = str(Path(OUT_ROOT) / \"Output2\")\n",
    "\n",
    "IN_PAT_BRONZE  = str(Path(OUT1) / \"patients.parquet\")\n",
    "IN_COND_BRONZE = str(Path(OUT1) / \"conditions.parquet\")\n",
    "\n",
    "IN_PAT_SILVER  = str(Path(OUT2) / \"patients_clean.parquet\")\n",
    "IN_COND_SILVER = str(Path(OUT2) / \"conditions_clean.parquet\")\n",
    "\n",
    "IN_PAT_SILVER, IN_COND_SILVER\n"
   ]
  },
  {
   "cell_type": "code",
   "execution_count": 28,
   "id": "a4937f27",
   "metadata": {},
   "outputs": [
    {
     "name": "stdout",
     "output_type": "stream",
     "text": [
      "+--------------+--------------+------+---------------------+------------------+\n",
      "|null_birthdate|null_deathdate|rows  |pct_null_birthdate   |pct_null_deathdate|\n",
      "+--------------+--------------+------+---------------------+------------------+\n",
      "|240           |99683         |133443|0.0017985207167105057|0.7470080858493888|\n",
      "+--------------+--------------+------+---------------------+------------------+\n",
      "\n",
      "+----------+---------+------+--------------+------------------+\n",
      "|null_start|null_stop|rows  |pct_null_start|pct_null_stop     |\n",
      "+----------+---------+------+--------------+------------------+\n",
      "|0         |219720   |485284|0.0           |0.4527658031173498|\n",
      "+----------+---------+------+--------------+------------------+\n",
      "\n"
     ]
    }
   ],
   "source": [
    "from pyspark.sql import functions as F\n",
    "\n",
    "p = spark.read.parquet(IN_PAT_SILVER)\n",
    "c = spark.read.parquet(IN_COND_SILVER)\n",
    "\n",
    "# Null counts + rates (patients)\n",
    "p_nulls = (\n",
    "    p.select(\n",
    "        F.count(F.when(F.col(\"birthdate\").isNull(), 1)).alias(\"null_birthdate\"),\n",
    "        F.count(F.when(F.col(\"deathdate\").isNull(), 1)).alias(\"null_deathdate\"),\n",
    "        F.count(\"*\").alias(\"rows\"),\n",
    "    )\n",
    "    .withColumn(\"pct_null_birthdate\", F.col(\"null_birthdate\") / F.col(\"rows\"))\n",
    "    .withColumn(\"pct_null_deathdate\", F.col(\"null_deathdate\") / F.col(\"rows\"))\n",
    ")\n",
    "p_nulls.show(truncate=False)\n",
    "\n",
    "# Null counts + rates (conditions)\n",
    "c_nulls = (\n",
    "    c.select(\n",
    "        F.count(F.when(F.col(\"start_date\").isNull(), 1)).alias(\"null_start\"),\n",
    "        F.count(F.when(F.col(\"stop_date\").isNull(), 1)).alias(\"null_stop\"),\n",
    "        F.count(\"*\").alias(\"rows\"),\n",
    "    )\n",
    "    .withColumn(\"pct_null_start\", F.col(\"null_start\") / F.col(\"rows\"))\n",
    "    .withColumn(\"pct_null_stop\", F.col(\"null_stop\") / F.col(\"rows\"))\n",
    ")\n",
    "c_nulls.show(truncate=False)\n"
   ]
  },
  {
   "cell_type": "code",
   "execution_count": 29,
   "id": "b9b4dbe7",
   "metadata": {},
   "outputs": [
    {
     "name": "stdout",
     "output_type": "stream",
     "text": [
      "+------------------------------------+------+----------+----------+---------+\n",
      "|patient_id                          |gender|birthdate |deathdate |age_years|\n",
      "+------------------------------------+------+----------+----------+---------+\n",
      "|CE82E429-A89E-4DD0-B288-A572E3B8C17F|F     |1996-04-09|NULL      |29       |\n",
      "|DAEF6412-4C0B-49FF-8752-D0BBBD51963B|F     |2001-04-22|NULL      |24       |\n",
      "|61ADAE8E-6CF7-4180-B369-9E6340E84609|F     |2005-07-02|2006-01-21|20       |\n",
      "|94EB9D8D-112E-4D73-8AA3-8C4F9D2A5BE5|F     |1975-12-10|NULL      |49       |\n",
      "|F273EC3F-9ADB-4834-95D9-4D0B788B9E1E|F     |1995-08-28|NULL      |29       |\n",
      "+------------------------------------+------+----------+----------+---------+\n",
      "only showing top 5 rows\n",
      "+------------------------------------+------------------------------------------------+---------+----------+----------+---------+\n",
      "|patient_id                          |DESCRIPTION                                     |CODE     |start_date|stop_date |is_active|\n",
      "+------------------------------------+------------------------------------------------+---------+----------+----------+---------+\n",
      "|B9B9618A-627E-4245-8C20-3B25F5636724|History of cardiac arrest (situation)           |429007001|1991-08-12|NULL      |true     |\n",
      "|B9B9618A-627E-4245-8C20-3B25F5636724|Injury of tendon of the rotator cuff of shoulder|307731004|2011-06-01|2011-07-25|false    |\n",
      "|B9B9618A-627E-4245-8C20-3B25F5636724|Acute viral pharyngitis (disorder)              |195662009|2011-09-20|2011-10-08|false    |\n",
      "|B9B9618A-627E-4245-8C20-3B25F5636724|Concussion with no loss of consciousness        |62106007 |2013-08-24|2013-11-03|false    |\n",
      "|B9B9618A-627E-4245-8C20-3B25F5636724|Stroke                                          |230690007|2013-09-30|NULL      |true     |\n",
      "+------------------------------------+------------------------------------------------+---------+----------+----------+---------+\n",
      "only showing top 5 rows\n"
     ]
    }
   ],
   "source": [
    "spark.read.parquet(IN_PAT_SILVER).show(5, truncate=False)\n",
    "spark.read.parquet(IN_COND_SILVER).show(5, truncate=False)\n"
   ]
  },
  {
   "cell_type": "code",
   "execution_count": 30,
   "id": "6369432f",
   "metadata": {},
   "outputs": [
    {
     "name": "stdout",
     "output_type": "stream",
     "text": [
      "Patients_clean schema:\n",
      "root\n",
      " |-- patient_id: string (nullable = true)\n",
      " |-- gender: string (nullable = true)\n",
      " |-- birthdate: date (nullable = true)\n",
      " |-- deathdate: date (nullable = true)\n",
      " |-- age_years: long (nullable = true)\n",
      "\n",
      "+------------------------------------+------+----------+----------+---------+\n",
      "|patient_id                          |gender|birthdate |deathdate |age_years|\n",
      "+------------------------------------+------+----------+----------+---------+\n",
      "|CE82E429-A89E-4DD0-B288-A572E3B8C17F|F     |1996-04-09|NULL      |29       |\n",
      "|DAEF6412-4C0B-49FF-8752-D0BBBD51963B|F     |2001-04-22|NULL      |24       |\n",
      "|61ADAE8E-6CF7-4180-B369-9E6340E84609|F     |2005-07-02|2006-01-21|20       |\n",
      "|94EB9D8D-112E-4D73-8AA3-8C4F9D2A5BE5|F     |1975-12-10|NULL      |49       |\n",
      "|F273EC3F-9ADB-4834-95D9-4D0B788B9E1E|F     |1995-08-28|NULL      |29       |\n",
      "+------------------------------------+------+----------+----------+---------+\n",
      "only showing top 5 rows\n",
      "Conditions_clean schema:\n",
      "root\n",
      " |-- patient_id: string (nullable = true)\n",
      " |-- DESCRIPTION: string (nullable = true)\n",
      " |-- CODE: string (nullable = true)\n",
      " |-- start_date: date (nullable = true)\n",
      " |-- stop_date: date (nullable = true)\n",
      " |-- is_active: boolean (nullable = true)\n",
      "\n",
      "+------------------------------------+------------------------------------------------+---------+----------+----------+---------+\n",
      "|patient_id                          |DESCRIPTION                                     |CODE     |start_date|stop_date |is_active|\n",
      "+------------------------------------+------------------------------------------------+---------+----------+----------+---------+\n",
      "|B9B9618A-627E-4245-8C20-3B25F5636724|History of cardiac arrest (situation)           |429007001|1991-08-12|NULL      |true     |\n",
      "|B9B9618A-627E-4245-8C20-3B25F5636724|Injury of tendon of the rotator cuff of shoulder|307731004|2011-06-01|2011-07-25|false    |\n",
      "|B9B9618A-627E-4245-8C20-3B25F5636724|Acute viral pharyngitis (disorder)              |195662009|2011-09-20|2011-10-08|false    |\n",
      "|B9B9618A-627E-4245-8C20-3B25F5636724|Concussion with no loss of consciousness        |62106007 |2013-08-24|2013-11-03|false    |\n",
      "|B9B9618A-627E-4245-8C20-3B25F5636724|Stroke                                          |230690007|2013-09-30|NULL      |true     |\n",
      "+------------------------------------+------------------------------------------------+---------+----------+----------+---------+\n",
      "only showing top 5 rows\n"
     ]
    }
   ],
   "source": [
    "p = spark.read.parquet(IN_PAT_SILVER)\n",
    "c = spark.read.parquet(IN_COND_SILVER)\n",
    "\n",
    "print(\"Patients_clean schema:\")\n",
    "p.printSchema()\n",
    "p.show(5, truncate=False)\n",
    "\n",
    "print(\"Conditions_clean schema:\")\n",
    "c.printSchema()\n",
    "c.show(5, truncate=False)\n"
   ]
  },
  {
   "cell_type": "code",
   "execution_count": 31,
   "id": "8e48d1d9",
   "metadata": {},
   "outputs": [
    {
     "name": "stdout",
     "output_type": "stream",
     "text": [
      "Patients: 133443\n",
      "Conditions: 485284\n"
     ]
    }
   ],
   "source": [
    "print(\"Patients:\", p.count())\n",
    "print(\"Conditions:\", c.count())\n"
   ]
  },
  {
   "cell_type": "code",
   "execution_count": 32,
   "id": "f29d7922",
   "metadata": {},
   "outputs": [
    {
     "name": "stdout",
     "output_type": "stream",
     "text": [
      "+------------------------------------+-----+\n",
      "|DESCRIPTION                         |count|\n",
      "+------------------------------------+-----+\n",
      "|Viral sinusitis (disorder)          |78859|\n",
      "|Acute viral pharyngitis (disorder)  |43557|\n",
      "|Acute bronchitis (disorder)         |35626|\n",
      "|Prediabetes                         |34448|\n",
      "|Hypertension                        |30322|\n",
      "|Chronic sinusitis (disorder)        |24753|\n",
      "|Normal pregnancy                    |15492|\n",
      "|Otitis media                        |12420|\n",
      "|Streptococcal sore throat (disorder)|10484|\n",
      "|Coronary Heart Disease              |8511 |\n",
      "+------------------------------------+-----+\n",
      "only showing top 10 rows\n"
     ]
    }
   ],
   "source": [
    "c.groupBy(\"DESCRIPTION\").count().orderBy(F.desc(\"count\")).show(10, truncate=False)\n"
   ]
  },
  {
   "cell_type": "code",
   "execution_count": 33,
   "id": "e2cb3211",
   "metadata": {},
   "outputs": [
    {
     "name": "stdout",
     "output_type": "stream",
     "text": [
      "+-------+-----------------+\n",
      "|summary|        age_years|\n",
      "+-------+-----------------+\n",
      "|  count|           133203|\n",
      "|   mean|  56.740981809719|\n",
      "| stddev|27.26726639062234|\n",
      "|    min|                8|\n",
      "|    max|              119|\n",
      "+-------+-----------------+\n",
      "\n"
     ]
    }
   ],
   "source": [
    "p.select(\"age_years\").describe().show()\n"
   ]
  },
  {
   "cell_type": "code",
   "execution_count": 34,
   "id": "b102fe61",
   "metadata": {},
   "outputs": [
    {
     "name": "stdout",
     "output_type": "stream",
     "text": [
      "{'patient_id': '1234', 'demographics': {'gender': 'F', 'birthdate': '1980-01-01', 'age_years': 45}, 'conditions': [{'description': 'Hypertension', 'code': '38341003', 'start': '2019-04-10', 'stop': None, 'active': True}, {'description': 'Prediabetes', 'code': '15777000', 'start': '2021-07-05', 'stop': None, 'active': True}]}\n"
     ]
    }
   ],
   "source": [
    "patient_example = {\n",
    "  \"patient_id\": \"1234\",\n",
    "  \"demographics\": {\"gender\": \"F\", \"birthdate\": \"1980-01-01\", \"age_years\": 45},\n",
    "  \"conditions\": [\n",
    "    {\"description\": \"Hypertension\", \"code\": \"38341003\", \"start\": \"2019-04-10\", \"stop\": None, \"active\": True},\n",
    "    {\"description\": \"Prediabetes\",  \"code\": \"15777000\", \"start\": \"2021-07-05\", \"stop\": None, \"active\": True}\n",
    "  ]\n",
    "}\n",
    "print(patient_example)\n"
   ]
  },
  {
   "cell_type": "code",
   "execution_count": 35,
   "id": "1bdb5f41",
   "metadata": {},
   "outputs": [
    {
     "name": "stdout",
     "output_type": "stream",
     "text": [
      "{'patient_id': '1234', 'demographics': {'gender': 'F', 'birthdate': '1980-01-01', 'age_years': 45}, 'conditions': [{'description': 'Hypertension', 'code': '38341003', 'start': '2019-04-10', 'stop': None, 'active': True}, {'description': 'Prediabetes', 'code': '15777000', 'start': '2021-07-05', 'stop': None, 'active': True}]}\n"
     ]
    }
   ],
   "source": [
    "import json\n",
    "\n",
    "patient_json = \"\"\"\n",
    "{\n",
    "  \"patient_id\": \"1234\",\n",
    "  \"demographics\": {\"gender\": \"F\", \"birthdate\": \"1980-01-01\", \"age_years\": 45},\n",
    "  \"conditions\": [\n",
    "    {\"description\": \"Hypertension\", \"code\": \"38341003\", \"start\": \"2019-04-10\", \"stop\": null, \"active\": true},\n",
    "    {\"description\": \"Prediabetes\",  \"code\": \"15777000\", \"start\": \"2021-07-05\", \"stop\": null, \"active\": true}\n",
    "  ]\n",
    "}\n",
    "\"\"\"\n",
    "\n",
    "parsed = json.loads(patient_json)   # convert JSON string → Python dict\n",
    "print(parsed)\n"
   ]
  },
  {
   "cell_type": "code",
   "execution_count": 36,
   "id": "d0c987d8",
   "metadata": {},
   "outputs": [
    {
     "name": "stdout",
     "output_type": "stream",
     "text": [
      "{\n",
      "  \"patient_id\": \"1234\",\n",
      "  \"demographics\": {\n",
      "    \"gender\": \"F\",\n",
      "    \"birthdate\": \"1980-01-01\",\n",
      "    \"age_years\": 45\n",
      "  },\n",
      "  \"conditions\": [\n",
      "    {\n",
      "      \"description\": \"Hypertension\",\n",
      "      \"code\": \"38341003\",\n",
      "      \"start\": \"2019-04-10\",\n",
      "      \"stop\": null,\n",
      "      \"active\": true\n",
      "    },\n",
      "    {\n",
      "      \"description\": \"Prediabetes\",\n",
      "      \"code\": \"15777000\",\n",
      "      \"start\": \"2021-07-05\",\n",
      "      \"stop\": null,\n",
      "      \"active\": true\n",
      "    }\n",
      "  ]\n",
      "}\n"
     ]
    }
   ],
   "source": [
    "from pydantic import BaseModel\n",
    "from typing import Optional, List\n",
    "import json\n",
    "\n",
    "class Condition(BaseModel):\n",
    "    description: Optional[str] = None\n",
    "    code: Optional[str] = None\n",
    "    start: Optional[str] = None\n",
    "    stop: Optional[str] = None\n",
    "    active: Optional[bool] = None\n",
    "\n",
    "class Demographics(BaseModel):\n",
    "    gender: Optional[str] = None\n",
    "    birthdate: Optional[str] = None\n",
    "    age_years: Optional[int] = None\n",
    "\n",
    "class PatientFacts(BaseModel):\n",
    "    patient_id: str\n",
    "    demographics: Demographics\n",
    "    conditions: List[Condition] = []\n",
    "\n",
    "patient_example = {\n",
    "    \"patient_id\": \"1234\",\n",
    "    \"demographics\": {\"gender\": \"F\", \"birthdate\": \"1980-01-01\", \"age_years\": 45},\n",
    "    \"conditions\": [\n",
    "        {\"description\": \"Hypertension\", \"code\": \"38341003\", \"start\": \"2019-04-10\", \"stop\": None, \"active\": True},\n",
    "        {\"description\": \"Prediabetes\",  \"code\": \"15777000\", \"start\": \"2021-07-05\", \"stop\": None, \"active\": True}\n",
    "    ]\n",
    "}\n",
    "\n",
    "validated = PatientFacts(**patient_example)\n",
    "\n",
    "# EITHER:\n",
    "print(validated.model_dump_json(indent=2))\n",
    "# OR:\n",
    "# print(json.dumps(validated.model_dump(), indent=2))\n"
   ]
  },
  {
   "cell_type": "code",
   "execution_count": 37,
   "id": "a2ce43c2",
   "metadata": {},
   "outputs": [],
   "source": [
    "def build_prompt(facts: PatientFacts) -> str:\n",
    "    # Dump Pydantic object to JSON\n",
    "    compact = facts.model_dump()\n",
    "\n",
    "    # Optional: clip lists so prompt stays short\n",
    "    compact[\"conditions\"] = compact.get(\"conditions\", [])[:5]\n",
    "\n",
    "    prompt = f\"\"\"\n",
    "You are a medical assistant writing a brief, friendly note to a patient.\n",
    "Use ONLY the facts supplied. Do not invent diagnoses or dates.\n",
    "Keep the language plain (grade 6–8), about 4–6 sentences.\n",
    "\n",
    "Facts (JSON):\n",
    "{json.dumps(compact, indent=2)}\n",
    "\n",
    "Instruction:\n",
    "- Summarize recent conditions (prioritize 'active' ones).\n",
    "- Mention demographics (age, gender).\n",
    "- Add a friendly reminder for follow-up or healthy living.\n",
    "- End with: \"Contact your care team if symptoms change.\"\n",
    "\n",
    "Write the message addressed directly to the patient:\n",
    "\"\"\"\n",
    "    return prompt.strip()\n"
   ]
  },
  {
   "cell_type": "code",
   "execution_count": 40,
   "id": "2de5bce4",
   "metadata": {},
   "outputs": [],
   "source": [
    "def build_prompt(facts):\n",
    "    return f\"\"\"Summarize the following patient data into a short narrative:\n",
    "\n",
    "Patient ID: {facts.patient_id}\n",
    "Age: {facts.demographics['age']}\n",
    "Sex: {facts.demographics['sex']}\n",
    "Diagnosis: {facts.baseline['cancer_type']} stage {facts.baseline['stage']}\n",
    "Visits: {facts.visits}\n",
    "Medications: {facts.medications}\n",
    "Labs: {facts.labs}\n",
    "Adverse events: {facts.adverse_events}\n",
    "Next visit: {facts.next_visit}\n",
    "\n",
    "Narrative:\n",
    "\"\"\"\n"
   ]
  },
  {
   "cell_type": "code",
   "execution_count": 41,
   "id": "41ef2381",
   "metadata": {},
   "outputs": [
    {
     "ename": "TypeError",
     "evalue": "'Demographics' object is not subscriptable",
     "output_type": "error",
     "traceback": [
      "\u001b[1;31m---------------------------------------------------------------------------\u001b[0m",
      "\u001b[1;31mTypeError\u001b[0m                                 Traceback (most recent call last)",
      "Cell \u001b[1;32mIn[41], line 12\u001b[0m\n\u001b[0;32m      9\u001b[0m     \u001b[38;5;28;01mreturn\u001b[39;00m out[\u001b[38;5;241m0\u001b[39m][\u001b[38;5;124m\"\u001b[39m\u001b[38;5;124mgenerated_text\u001b[39m\u001b[38;5;124m\"\u001b[39m]\u001b[38;5;241m.\u001b[39mstrip()\n\u001b[0;32m     11\u001b[0m \u001b[38;5;66;03m# Example run (assuming `validated` is your PatientFacts dict or Pydantic model)\u001b[39;00m\n\u001b[1;32m---> 12\u001b[0m narrative \u001b[38;5;241m=\u001b[39m \u001b[43mgenerate_narrative\u001b[49m\u001b[43m(\u001b[49m\u001b[43mvalidated\u001b[49m\u001b[43m)\u001b[49m\n\u001b[0;32m     13\u001b[0m \u001b[38;5;28mprint\u001b[39m(\u001b[38;5;124m\"\u001b[39m\u001b[38;5;124mGenerated Narrative:\u001b[39m\u001b[38;5;130;01m\\n\u001b[39;00m\u001b[38;5;124m\"\u001b[39m)\n\u001b[0;32m     14\u001b[0m \u001b[38;5;28mprint\u001b[39m(narrative)\n",
      "Cell \u001b[1;32mIn[41], line 5\u001b[0m, in \u001b[0;36mgenerate_narrative\u001b[1;34m(facts, model_name)\u001b[0m\n\u001b[0;32m      3\u001b[0m \u001b[38;5;28;01mdef\u001b[39;00m\u001b[38;5;250m \u001b[39m\u001b[38;5;21mgenerate_narrative\u001b[39m(facts, model_name\u001b[38;5;241m=\u001b[39m\u001b[38;5;124m\"\u001b[39m\u001b[38;5;124mgoogle/flan-t5-small\u001b[39m\u001b[38;5;124m\"\u001b[39m):\n\u001b[0;32m      4\u001b[0m     set_seed(\u001b[38;5;241m42\u001b[39m)\n\u001b[1;32m----> 5\u001b[0m     prompt \u001b[38;5;241m=\u001b[39m \u001b[43mbuild_prompt\u001b[49m\u001b[43m(\u001b[49m\u001b[43mfacts\u001b[49m\u001b[43m)\u001b[49m\n\u001b[0;32m      7\u001b[0m     gen \u001b[38;5;241m=\u001b[39m pipeline(\u001b[38;5;124m\"\u001b[39m\u001b[38;5;124mtext2text-generation\u001b[39m\u001b[38;5;124m\"\u001b[39m, model\u001b[38;5;241m=\u001b[39mmodel_name, device\u001b[38;5;241m=\u001b[39m\u001b[38;5;241m-\u001b[39m\u001b[38;5;241m1\u001b[39m)\n\u001b[0;32m      8\u001b[0m     out \u001b[38;5;241m=\u001b[39m gen(prompt, max_length\u001b[38;5;241m=\u001b[39m\u001b[38;5;241m200\u001b[39m, do_sample\u001b[38;5;241m=\u001b[39m\u001b[38;5;28;01mFalse\u001b[39;00m)\n",
      "Cell \u001b[1;32mIn[40], line 5\u001b[0m, in \u001b[0;36mbuild_prompt\u001b[1;34m(facts)\u001b[0m\n\u001b[0;32m      1\u001b[0m \u001b[38;5;28;01mdef\u001b[39;00m\u001b[38;5;250m \u001b[39m\u001b[38;5;21mbuild_prompt\u001b[39m(facts):\n\u001b[0;32m      2\u001b[0m     \u001b[38;5;28;01mreturn\u001b[39;00m \u001b[38;5;124mf\u001b[39m\u001b[38;5;124m\"\"\"\u001b[39m\u001b[38;5;124mSummarize the following patient data into a short narrative:\u001b[39m\n\u001b[0;32m      3\u001b[0m \n\u001b[0;32m      4\u001b[0m \u001b[38;5;124mPatient ID: \u001b[39m\u001b[38;5;132;01m{\u001b[39;00mfacts\u001b[38;5;241m.\u001b[39mpatient_id\u001b[38;5;132;01m}\u001b[39;00m\n\u001b[1;32m----> 5\u001b[0m \u001b[38;5;124mAge: \u001b[39m\u001b[38;5;132;01m{\u001b[39;00m\u001b[43mfacts\u001b[49m\u001b[38;5;241;43m.\u001b[39;49m\u001b[43mdemographics\u001b[49m\u001b[43m[\u001b[49m\u001b[38;5;124;43m'\u001b[39;49m\u001b[38;5;124;43mage\u001b[39;49m\u001b[38;5;124;43m'\u001b[39;49m\u001b[43m]\u001b[49m\u001b[38;5;132;01m}\u001b[39;00m\n\u001b[0;32m      6\u001b[0m \u001b[38;5;124mSex: \u001b[39m\u001b[38;5;132;01m{\u001b[39;00mfacts\u001b[38;5;241m.\u001b[39mdemographics[\u001b[38;5;124m'\u001b[39m\u001b[38;5;124msex\u001b[39m\u001b[38;5;124m'\u001b[39m]\u001b[38;5;132;01m}\u001b[39;00m\n\u001b[0;32m      7\u001b[0m \u001b[38;5;124mDiagnosis: \u001b[39m\u001b[38;5;132;01m{\u001b[39;00mfacts\u001b[38;5;241m.\u001b[39mbaseline[\u001b[38;5;124m'\u001b[39m\u001b[38;5;124mcancer_type\u001b[39m\u001b[38;5;124m'\u001b[39m]\u001b[38;5;132;01m}\u001b[39;00m\u001b[38;5;124m stage \u001b[39m\u001b[38;5;132;01m{\u001b[39;00mfacts\u001b[38;5;241m.\u001b[39mbaseline[\u001b[38;5;124m'\u001b[39m\u001b[38;5;124mstage\u001b[39m\u001b[38;5;124m'\u001b[39m]\u001b[38;5;132;01m}\u001b[39;00m\n\u001b[0;32m      8\u001b[0m \u001b[38;5;124mVisits: \u001b[39m\u001b[38;5;132;01m{\u001b[39;00mfacts\u001b[38;5;241m.\u001b[39mvisits\u001b[38;5;132;01m}\u001b[39;00m\n\u001b[0;32m      9\u001b[0m \u001b[38;5;124mMedications: \u001b[39m\u001b[38;5;132;01m{\u001b[39;00mfacts\u001b[38;5;241m.\u001b[39mmedications\u001b[38;5;132;01m}\u001b[39;00m\n\u001b[0;32m     10\u001b[0m \u001b[38;5;124mLabs: \u001b[39m\u001b[38;5;132;01m{\u001b[39;00mfacts\u001b[38;5;241m.\u001b[39mlabs\u001b[38;5;132;01m}\u001b[39;00m\n\u001b[0;32m     11\u001b[0m \u001b[38;5;124mAdverse events: \u001b[39m\u001b[38;5;132;01m{\u001b[39;00mfacts\u001b[38;5;241m.\u001b[39madverse_events\u001b[38;5;132;01m}\u001b[39;00m\n\u001b[0;32m     12\u001b[0m \u001b[38;5;124mNext visit: \u001b[39m\u001b[38;5;132;01m{\u001b[39;00mfacts\u001b[38;5;241m.\u001b[39mnext_visit\u001b[38;5;132;01m}\u001b[39;00m\n\u001b[0;32m     13\u001b[0m \n\u001b[0;32m     14\u001b[0m \u001b[38;5;124mNarrative:\u001b[39m\n\u001b[0;32m     15\u001b[0m \u001b[38;5;124m\"\"\"\u001b[39m\n",
      "\u001b[1;31mTypeError\u001b[0m: 'Demographics' object is not subscriptable"
     ]
    }
   ],
   "source": [
    "from transformers import pipeline, set_seed\n",
    "\n",
    "def generate_narrative(facts, model_name=\"google/flan-t5-small\"):\n",
    "    set_seed(42)\n",
    "    prompt = build_prompt(facts)\n",
    "\n",
    "    gen = pipeline(\"text2text-generation\", model=model_name, device=-1)\n",
    "    out = gen(prompt, max_length=200, do_sample=False)\n",
    "    return out[0][\"generated_text\"].strip()\n",
    "\n",
    "# Example run (assuming `validated` is your PatientFacts dict or Pydantic model)\n",
    "narrative = generate_narrative(validated)\n",
    "print(\"Generated Narrative:\\n\")\n",
    "print(narrative)\n"
   ]
  },
  {
   "cell_type": "code",
   "execution_count": null,
   "id": "39e62d93",
   "metadata": {},
   "outputs": [],
   "source": []
  },
  {
   "cell_type": "code",
   "execution_count": null,
   "id": "7b3b2078",
   "metadata": {},
   "outputs": [],
   "source": []
  },
  {
   "cell_type": "code",
   "execution_count": null,
   "id": "cfab4199",
   "metadata": {},
   "outputs": [],
   "source": []
  },
  {
   "cell_type": "code",
   "execution_count": null,
   "id": "1f389efb",
   "metadata": {},
   "outputs": [],
   "source": []
  }
 ],
 "metadata": {
  "kernelspec": {
   "display_name": "patients",
   "language": "python",
   "name": "python3"
  },
  "language_info": {
   "codemirror_mode": {
    "name": "ipython",
    "version": 3
   },
   "file_extension": ".py",
   "mimetype": "text/x-python",
   "name": "python",
   "nbconvert_exporter": "python",
   "pygments_lexer": "ipython3",
   "version": "3.10.18"
  }
 },
 "nbformat": 4,
 "nbformat_minor": 5
}
